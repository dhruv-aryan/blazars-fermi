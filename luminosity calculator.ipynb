{
 "cells": [
  {
   "cell_type": "code",
   "execution_count": 2,
   "metadata": {},
   "outputs": [],
   "source": [
    "import numpy as np\n",
    "import matplotlib.pyplot as plt"
   ]
  },
  {
   "cell_type": "code",
   "execution_count": 3,
   "metadata": {},
   "outputs": [],
   "source": [
    "def calc(WM,H0,z):\n",
    "    WV = 1.0 - WM - 0.4165/(H0*H0) \n",
    "    WR = 0.        # Omega(radiation)\n",
    "    WK = 0.        # Omega curvaturve = 1-Omega(total)\n",
    "    c = 299792.458 # velocity of light in km/sec\n",
    "    Tyr = 977.8    # coefficent for converting 1/H into Gyr\n",
    "    DTT = 0.5      # time from z to now in units of 1/H0\n",
    "    DTT_Gyr = 0.0  # value of DTT in Gyr\n",
    "    age = 0.5      # age of Universe in units of 1/H0\n",
    "    age_Gyr = 0.0  # value of age in Gyr\n",
    "    zage = 0.1     # age of Universe at redshift z in units of 1/H0\n",
    "    zage_Gyr = 0.0 # value of zage in Gyr\n",
    "    DCMR = 0.0     # comoving radial distance in units of c/H0\n",
    "    DCMR_Mpc = 0.0 \n",
    "    DCMR_Gyr = 0.0\n",
    "    DA = 0.0       # angular size distance\n",
    "    DA_Mpc = 0.0\n",
    "    DA_Gyr = 0.0\n",
    "    kpc_DA = 0.0\n",
    "    DL = 0.0       # luminosity distance\n",
    "    DL_Mpc = 0.0\n",
    "    DL_Gyr = 0.0   # DL in units of billions of light years\n",
    "    V_Gpc = 0.0\n",
    "    a = 1.0        # 1/(1+z), the scale factor of the Universe\n",
    "    az = 0.5       # 1/(1+z(object))\n",
    "\n",
    "    h = H0/100.\n",
    "    WR = 4.165E-5/(h*h)   # includes 3 massless neutrino species, T0 = 2.72528\n",
    "    WK = 1-WM-WR-WV\n",
    "    az = 1.0/(1+1.0*z)\n",
    "    age = 0.\n",
    "    n=1000         # number of points in integrals\n",
    "    for i in range(n):\n",
    "        a = az*(i+0.5)/n\n",
    "        adot = np.sqrt(WK+(WM/a)+(WR/(a*a))+(WV*a*a))\n",
    "        age = age + 1./adot\n",
    "\n",
    "    zage = az*age/n\n",
    "    zage_Gyr = (Tyr/H0)*zage\n",
    "    DTT = 0.0\n",
    "    DCMR = 0.0\n",
    "\n",
    "    # do integral over a=1/(1+z) from az to 1 in n steps, midpoint rule\n",
    "    for i in range(n):\n",
    "        a = az+(1-az)*(i+0.5)/n\n",
    "        adot = np.sqrt(WK+(WM/a)+(WR/(a*a))+(WV*a*a))\n",
    "        DTT = DTT + 1./adot\n",
    "        DCMR = DCMR + 1./(a*adot)\n",
    "\n",
    "    DTT = (1.-az)*DTT/n\n",
    "    DCMR = (1.-az)*DCMR/n\n",
    "    age = DTT+zage\n",
    "    age_Gyr = age*(Tyr/H0)\n",
    "    DTT_Gyr = (Tyr/H0)*DTT\n",
    "    DCMR_Gyr = (Tyr/H0)*DCMR\n",
    "    DCMR_Mpc = (c/H0)*DCMR\n",
    "\n",
    "    # tangential comoving distance\n",
    "\n",
    "    ratio = 1.00\n",
    "    x = np.sqrt(abs(WK))*DCMR\n",
    "    if x > 0.1:\n",
    "        if WK > 0:\n",
    "            ratio =  0.5*(exp(x)-exp(-x))/x \n",
    "        else:\n",
    "            ratio = sin(x)/x\n",
    "    else:\n",
    "        y = x*x\n",
    "        if WK < 0: y = -y\n",
    "        ratio = 1. + y/6. + y*y/120.\n",
    "    DCMT = ratio*DCMR\n",
    "    DA = az*DCMT\n",
    "    DA_Mpc = (c/H0)*DA\n",
    "    kpc_DA = DA_Mpc/206.264806\n",
    "    DA_Gyr = (Tyr/H0)*DA\n",
    "    DL = DA/(az*az)\n",
    "    DL_Mpc = (c/H0)*DL\n",
    "    DL_Gyr = (Tyr/H0)*DL\n",
    "\n",
    "    # comoving volume computation\n",
    "\n",
    "    ratio = 1.00\n",
    "    x = np.sqrt(abs(WK))*DCMR\n",
    "    if x > 0.1:\n",
    "        if WK > 0:\n",
    "            ratio = (0.125*(exp(2.*x)-exp(-2.*x))-x/2.)/(x*x*x/3.)\n",
    "        else:\n",
    "            ratio = (x/2. - sin(2.*x)/4.)/(x*x*x/3.)\n",
    "    else:\n",
    "        y = x*x\n",
    "        if WK < 0: y = -y\n",
    "        ratio = 1. + y/5. + (2./105.)*y*y\n",
    "    VCM = ratio*DCMR*DCMR*DCMR/3.\n",
    "    V_Gpc = 4.*np.pi*((0.001*c/H0)**3)*VCM\n",
    "\n",
    "    return DL_Mpc"
   ]
  },
  {
   "cell_type": "code",
   "execution_count": 4,
   "metadata": {},
   "outputs": [
    {
     "name": "stdout",
     "output_type": "stream",
     "text": [
      "25924.23378393284\n"
     ]
    }
   ],
   "source": [
    "lum1=calc(0.286,69.6,3)\n",
    "print(lum1)"
   ]
  },
  {
   "cell_type": "code",
   "execution_count": 5,
   "metadata": {},
   "outputs": [],
   "source": [
    "z=np.loadtxt(\"/Users/Dhruv/RRI Internship/4lac_redshift_data.csv\", delimiter=',', unpack=True)"
   ]
  },
  {
   "cell_type": "code",
   "execution_count": 6,
   "metadata": {},
   "outputs": [],
   "source": [
    "lum=[calc(0.286,69.6,a) for a in z]"
   ]
  },
  {
   "cell_type": "code",
   "execution_count": 12,
   "metadata": {},
   "outputs": [],
   "source": [
    "np.savetxt('output.csv', lum, delimiter=',')"
   ]
  },
  {
   "cell_type": "code",
   "execution_count": null,
   "metadata": {},
   "outputs": [],
   "source": []
  }
 ],
 "metadata": {
  "kernelspec": {
   "display_name": "Python 3 (ipykernel)",
   "language": "python",
   "name": "python3"
  },
  "language_info": {
   "codemirror_mode": {
    "name": "ipython",
    "version": 3
   },
   "file_extension": ".py",
   "mimetype": "text/x-python",
   "name": "python",
   "nbconvert_exporter": "python",
   "pygments_lexer": "ipython3",
   "version": "3.9.12"
  }
 },
 "nbformat": 4,
 "nbformat_minor": 2
}
